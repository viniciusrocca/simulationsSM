{
 "cells": [
  {
   "cell_type": "code",
   "execution_count": 1,
   "metadata": {},
   "outputs": [],
   "source": [
    "import numpy as np\n",
    "import matplotlib.pyplot as plt\n",
    "import seaborn as sns\n",
    "import xml.etree.ElementTree as ET\n",
    "import os,glob,sys\n",
    "sys.path.append('../')\n",
    "import pylheV\n",
    "\n",
    "sns.set() #Set style\n",
    "sns.set_style('ticks',{'font.family':'serif', 'font.serif':'Times New Roman'})\n",
    "sns.set_context('paper', font_scale=1.8)\n",
    "sns.set_palette(sns.color_palette(\"Paired\"))"
   ]
  },
  {
   "cell_type": "code",
   "execution_count": 2,
   "metadata": {},
   "outputs": [],
   "source": [
    "def invariant_mass(file_name, pid):\n",
    "    invariant_mass = []\n",
    "    for e in pylheV.readLHE(file_name):\n",
    "        for i in range(int(e.eventinfo.nparticles)):\n",
    "            if e.particles[i].id == pid:\n",
    "                daughters =  e.particles[i].set_daughters()\n",
    "                \n",
    "                \n",
    "                f_daughters = final_daughters(e.particles,daughters)\n",
    "                \n",
    "                if len(f_daughters) != 0:\n",
    "                    energy = 0\n",
    "                    px = 0\n",
    "                    py = 0\n",
    "                    pz = 0\n",
    "                    inv_mass=0\n",
    "                    for j in range(len(f_daughters)):\n",
    "\n",
    "                        energy = energy + e.particles[f_daughters[j]].e\n",
    "                        px = px + e.particles[f_daughters[j]].px\n",
    "                        py = py + e.particles[f_daughters[j]].py\n",
    "                        pz = pz + e.particles[f_daughters[j]].pz\n",
    "\n",
    "                    inv_mass = np.sqrt(energy**2 - px**2 - py**2 - pz**2)\n",
    "\n",
    "                    invariant_mass.append(inv_mass)\n",
    "                \n",
    "    return invariant_mass\n",
    "                 "
   ]
  },
  {
   "cell_type": "code",
   "execution_count": 68,
   "metadata": {},
   "outputs": [],
   "source": [
    "def final_daughters(particles,daughters):\n",
    "    \n",
    "    \n",
    "    d = [] \n",
    "    for i in daughters: \n",
    "        if i not in d: \n",
    "            d.append(i) \n",
    "            \n",
    "   \n",
    "    daughters = d\n",
    "        \n",
    "    k = 0\n",
    "    while(k!=len(daughters)):\n",
    "        if particles[daughters[k]].status < 0:\n",
    "            daughters = daughters + particles[daughters[k]].set_daughters()\n",
    "            daughters.pop(k)\n",
    "            return final_daughters(particles,daughters)\n",
    "        \n",
    "            \n",
    "        k = k+1\n",
    "    \n",
    "    return daughters\n",
    "            "
   ]
  },
  {
   "cell_type": "code",
   "execution_count": 69,
   "metadata": {
    "scrolled": true
   },
   "outputs": [
    {
     "name": "stdout",
     "output_type": "stream",
     "text": [
      "[304.86690755861514, 1516.622295773398, 48.954485020681645, 63.685514710445055, 81.79677811336036, 69.17215049138693, 142.5573813290956, 75.75691673645152, 2060.0619662620174, 1777.3648668235926, 521.9597158425989, 16.66559234761165]\n"
     ]
    }
   ],
   "source": [
    "w_mass = invariant_mass('pp2ttbar_out.lhe',24)\n",
    "print(w_mass)"
   ]
  },
  {
   "cell_type": "code",
   "execution_count": 56,
   "metadata": {},
   "outputs": [
    {
     "name": "stdout",
     "output_type": "stream",
     "text": [
      "d =  [737, 738] i =  735\n",
      "[740, 741]\n",
      "[751, 752]\n",
      "d =  [1084, 1084] i =  739\n",
      "[]\n",
      "[]\n",
      "d =  [459, 460] i =  457\n",
      "[462, 463]\n",
      "[491, 492]\n",
      "d =  [465, 466] i =  461\n",
      "[468, 469]\n",
      "[474, 475]\n",
      "d =  [897, 897] i =  659\n",
      "[]\n",
      "[]\n",
      "d =  [350, 351] i =  348\n",
      "[353, 354]\n",
      "[412, 413]\n",
      "d =  [481, 481] i =  352\n",
      "[483, 484, 485, 486, 487]\n",
      "[483, 484, 485, 486, 487]\n",
      "d =  [1019, 1020] i =  1017\n",
      "[1438, 1438]\n",
      "[1039, 1040]\n",
      "d =  [1026, 1026] i =  1021\n",
      "[1030, 1031]\n",
      "[1030, 1031]\n",
      "d =  [800, 801] i =  798\n",
      "[803, 804]\n",
      "[826, 827]\n",
      "d =  [806, 807] i =  802\n",
      "[1158, 1158]\n",
      "[1155, 1155]\n",
      "d =  [300, 301] i =  298\n",
      "[303, 304]\n",
      "[308, 309]\n",
      "d =  [353, 353] i =  302\n",
      "[355, 356, 357]\n",
      "[355, 356, 357]\n",
      "d =  [207, 208] i =  205\n",
      "[265, 265]\n",
      "[212, 213]\n",
      "d =  [238, 239] i =  209\n",
      "[240, 241]\n",
      "[246, 247]\n",
      "d =  [150, 151] i =  148\n",
      "[153, 154]\n",
      "[182, 183]\n",
      "d =  [278, 278] i =  152\n",
      "[]\n",
      "[]\n",
      "d =  [271, 272] i =  269\n",
      "[274, 275]\n",
      "[282, 283]\n",
      "d =  [424, 424] i =  273\n",
      "[]\n",
      "[]\n"
     ]
    }
   ],
   "source": [
    "for e in pylheV.readLHE('pp2ttbar_out.lhe'):\n",
    "    for i in range(int(e.eventinfo.nparticles)):\n",
    "            if e.particles[i].id == 24:\n",
    "                daughters =  e.particles[i].set_daughters()\n",
    "                print('d = ',daughters, 'i = ', i)\n",
    "                for j in range(len(daughters)):\n",
    "                    print(e.particles[daughters[j]].set_daughters())\n",
    "                "
   ]
  },
  {
   "cell_type": "code",
   "execution_count": null,
   "metadata": {},
   "outputs": [],
   "source": []
  }
 ],
 "metadata": {
  "kernelspec": {
   "display_name": "Python 3",
   "language": "python",
   "name": "python3"
  },
  "language_info": {
   "codemirror_mode": {
    "name": "ipython",
    "version": 3
   },
   "file_extension": ".py",
   "mimetype": "text/x-python",
   "name": "python",
   "nbconvert_exporter": "python",
   "pygments_lexer": "ipython3",
   "version": "3.8.5"
  }
 },
 "nbformat": 4,
 "nbformat_minor": 2
}
