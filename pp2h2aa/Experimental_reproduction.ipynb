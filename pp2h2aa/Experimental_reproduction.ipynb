{
 "cells": [
  {
   "cell_type": "code",
   "execution_count": 1,
   "metadata": {},
   "outputs": [],
   "source": [
    "import pylheV\n",
    "import numpy as np\n",
    "import matplotlib.pyplot as plt\n",
    "import seaborn as sns\n",
    "\n",
    "sns.set() #Set style\n",
    "sns.set_style('ticks',{'font.family':'serif', 'font.serif':'Times New Roman'})\n",
    "sns.set_context('paper', font_scale=1.8)\n",
    "sns.set_palette(sns.color_palette(\"Paired\"))"
   ]
  },
  {
   "cell_type": "code",
   "execution_count": 2,
   "metadata": {},
   "outputs": [],
   "source": [
    "#This function calculates the invariant mass of aa.\n",
    "def massa_invariante(p1,p2, num_eventos):\n",
    "    \n",
    "    massa_invariante = []\n",
    "    \n",
    "    for i in range(num_eventos):\n",
    "        mI = 0\n",
    "        for j in range(4):\n",
    "            if j == 0:\n",
    "                tensor = 1\n",
    "            else:\n",
    "                tensor = -1\n",
    "            mI = mI + tensor*((p1[i][j]+p2[i][j])**2)\n",
    "        massa_invariante.append(np.sqrt(mI))\n",
    "        \n",
    "\n",
    "    \n",
    "    return massa_invariante"
   ]
  },
  {
   "cell_type": "code",
   "execution_count": 3,
   "metadata": {},
   "outputs": [],
   "source": [
    "#This function calculates the invariant mass of the process p p > h > a a.\n",
    "def massa_invarianteH(p1,p2, num_eventos, eta1, eta2, p_T1, p_T2):\n",
    "\n",
    "    \n",
    "    massa_invariante = []\n",
    "    \n",
    "    for i in range(num_eventos):\n",
    "        mI = 0\n",
    "        for j in range(4):\n",
    "            if j == 0:\n",
    "                tensor = 1\n",
    "            else:\n",
    "                tensor = -1\n",
    "            mI = mI + tensor*((p1[i][j]+p2[i][j])**2)\n",
    "        if abs(eta1[i]) <= 2.5 and abs(eta2[i]) <= 2.5 and p_T1[i] >= 25 and p_T2[i] >= 25:\n",
    "            massa_invariante.append(np.sqrt(mI))\n",
    "        \n",
    "\n",
    "    \n",
    "    return massa_invariante"
   ]
  },
  {
   "cell_type": "code",
   "execution_count": 4,
   "metadata": {
    "scrolled": true
   },
   "outputs": [],
   "source": [
    "def leitor_quadrimomento(file_name):\n",
    "    p1 = []\n",
    "    p2 = []\n",
    "\n",
    "    #This file was generated using the cards.\n",
    "    num_eventos = pylheV.readNumEvents(file_name)\n",
    "\n",
    "\n",
    "    for e in pylheV.readLHE(file_name):\n",
    "        quadrimomento1 = []\n",
    "        quadrimomento2 = []\n",
    "        for mu in ['e','px','py','pz']:\n",
    "            quadrimomento1.append(getattr(e.particles[-1],mu))\n",
    "            quadrimomento2.append(getattr(e.particles[-2],mu))\n",
    "        p1.append(quadrimomento1)\n",
    "        p2.append(quadrimomento2)\n",
    "\n",
    "    return p1,p2,num_eventos\n"
   ]
  },
  {
   "cell_type": "code",
   "execution_count": 5,
   "metadata": {},
   "outputs": [],
   "source": [
    "#This function calculates the pseudorapidity of a photon.\n",
    "def pseudorapidity(file_name):\n",
    "   \n",
    "    eta1 = []\n",
    "    eta2 = []\n",
    "    for e in pylheV.readLHE(file_name):\n",
    "        eta1.append(e.particles[-1].pseudorapidity())\n",
    "        eta2.append(e.particles[-2].pseudorapidity())\n",
    "\n",
    "    return eta1, eta2"
   ]
  },
  {
   "cell_type": "code",
   "execution_count": 6,
   "metadata": {},
   "outputs": [],
   "source": [
    "#This function calculates the transverse momentum of a photon.\n",
    "def pT(file_name):\n",
    "   \n",
    "    p_T1 = []\n",
    "    p_T2 = []\n",
    "    for e in pylheV.readLHE(file_name):\n",
    "        p_T1.append(e.particles[-1].pT())\n",
    "        p_T2.append(e.particles[-2].pT())\n",
    "\n",
    "    return p_T1, p_T2"
   ]
  },
  {
   "cell_type": "code",
   "execution_count": 7,
   "metadata": {},
   "outputs": [],
   "source": [
    "#invariant mass for p p > a a (sqrt(s) = 7 TeV), cross_section = 2.258 pb\n",
    "p1,p2,num_eventos = leitor_quadrimomento('pp2aa_7TeV.lhe')\n",
    "m_aa_1 = massa_invariante(p1,p2,num_eventos)\n",
    "\n",
    "#invariant mass for p p > a a without higgs (sqrt(s) = 7 TeV), cross_section = 2.251 pb\n",
    "p1,p2,num_eventos = leitor_quadrimomento('pp2aa_nH_7TeV.lhe')\n",
    "m_aa_nH_1 = massa_invariante(p1,p2,num_eventos)\n",
    "\n",
    "#Invariant mass for p p > h > a a (sqrt(s) = 7 TeV), cross section = 0.008509 pb\n",
    "p1h,p2h,num_eventosh = leitor_quadrimomento('pp2h2aa_7TeV.lhe')\n",
    "eta1, eta2 = pseudorapidity('pp2h2aa_7TeV.lhe')\n",
    "p_T1, p_T2 = pT('pp2h2aa_7TeV.lhe')\n",
    "m_h_aa_1 = massa_invarianteH(p1h,p2h,num_eventosh, eta1, eta2, p_T1, p_T2)\n",
    "\n",
    "#Invariant mass for p p > a a (sqrt(s) = 8 TeV), cross section =  2.503 pb\n",
    "p1_8,p2_8,num_eventos_8 = leitor_quadrimomento('pp2aa_8TeV.lhe')\n",
    "m_aa_2 = massa_invariante(p1_8,p2_8,num_eventos_8)\n",
    "\n",
    "#invariant mass for p p > a a without higgs (sqrt(s) = 8 TeV), cross_section = 2.495 pb\n",
    "p1,p2,num_eventos = leitor_quadrimomento('pp2aa_nH_8TeV.lhe')\n",
    "m_aa_nH_2 = massa_invariante(p1,p2,num_eventos)\n",
    "\n",
    "#Invariant mass for p p > h > a a (sqrt(s) = 8TeV), cross section = 0.01097 pb\n",
    "p1h_8,p2h_8,num_eventosh_8 = leitor_quadrimomento('pp2h2aa_8TeV.lhe')\n",
    "eta1, eta2 = pseudorapidity('pp2h2aa_8TeV.lhe')\n",
    "p_T1, p_T2 = pT('pp2h2aa_8TeV.lhe')\n",
    "m_h_aa_2 = massa_invarianteH(p1h_8,p2h_8,num_eventosh_8, eta1, eta2, p_T1, p_T2)\n",
    "\n",
    "#The luminosity in the CMS experiment was 5.1 fb**(-1) (7 TeV) and 5.3 fb**(-1) (8 TeV)\n",
    "\n",
    "#Selection the n = cross_section*luminosity\n",
    "m_aa = []\n",
    "m_aa_nH = []\n",
    "m_h_aa = []\n",
    "#for m_aa_1\n",
    "for i in range(int(2258*5.1)):\n",
    "    m_aa.append(m_aa_1[i])\n",
    "\n",
    "#for m_aa_2\n",
    "for i in range(int(2503*5.3)):\n",
    "    m_aa.append(m_aa_2[i])\n",
    "    \n",
    "#m_aa_nH_1:\n",
    "for i in range(int(2251*5.1)):\n",
    "    m_aa_nH.append(m_aa_1[i])\n",
    "    \n",
    "#m_aa_nH_2:\n",
    "for i in range(int(2495*5.1)):\n",
    "    m_aa_nH.append(m_aa_1[i])\n",
    "    \n",
    "#for m_h_aa_1:\n",
    "x = len(m_h_aa_1)/200000\n",
    "for i in range(int(x*8.509*5.1)):\n",
    "    m_h_aa.append(m_h_aa_1[i])\n",
    "\n",
    "#for m_h_aa2\n",
    "y = len(m_h_aa_2)/200000\n",
    "for i in range(int(y*10.97*5.3)):\n",
    "    m_h_aa.append(m_h_aa_2[i])\n",
    "    "
   ]
  },
  {
   "cell_type": "code",
   "execution_count": 8,
   "metadata": {
    "scrolled": false
   },
   "outputs": [
    {
     "data": {
      "image/png": "[encoded data removed]",
      "text/plain": [
       "<Figure size 432x288 with 1 Axes>"
      ]
     },
     "metadata": {
      "needs_background": "light"
     },
     "output_type": "display_data"
    },
    {
     "data": {
      "text/plain": [
       "<Figure size 60000x30000 with 0 Axes>"
      ]
     },
     "metadata": {},
     "output_type": "display_data"
    }
   ],
   "source": [
    "#Ploting the invariant mass \n",
    "\n",
    "histogram = plt.hist(m_aa, bins = 40, color = 'purple', range = (100,160), histtype = 'step',label = r'$m_{\\gamma\\gamma}$ for p p > a a')\n",
    "\n",
    "\n",
    "histogram1 = plt.hist(m_h_aa, bins = 40, color = 'black', range = (100,160), label = r'$m_{\\gamma\\gamma}$ for p p > h > a a')\n",
    "\n",
    "\n",
    "plt.title(r'Invariant mass ($m_{\\gamma\\gamma})$')\n",
    "plt.xlabel('Mass (Gev)')\n",
    "plt.ylabel('Frequency')\n",
    "plt.legend(fontsize = 12)\n",
    "plt.savefig('Massa_invariante2')\n",
    "plt.figure(figsize=[20.0,10.0], dpi = 3000)\n",
    "plt.show()"
   ]
  },
  {
   "cell_type": "code",
   "execution_count": 9,
   "metadata": {},
   "outputs": [
    {
     "data": {
      "image/png": "[encoded data removed]",
      "text/plain": [
       "<Figure size 432x288 with 1 Axes>"
      ]
     },
     "metadata": {
      "needs_background": "light"
     },
     "output_type": "display_data"
    },
    {
     "data": {
      "text/plain": [
       "<Figure size 60000x30000 with 0 Axes>"
      ]
     },
     "metadata": {},
     "output_type": "display_data"
    }
   ],
   "source": [
    "#Plotando o histograma\n",
    "\n",
    "histogram = plt.hist(m_aa, bins = 40, color = 'red', range = (100,160), histtype = 'step', label = r'$m_{\\gamma\\gamma}$ for p p > a a')\n",
    "\n",
    "histogram1 = plt.hist(m_aa_nH, bins = 40, color = 'black', range = (100,160), histtype = 'step', label = r'$m_{\\gamma\\gamma}$ for p p > a a /h')\n",
    "\n",
    "plt.title(r'Invariant mass ($m_{\\gamma\\gamma})$')\n",
    "plt.xlabel('Mass (Gev)')\n",
    "plt.ylabel('Frequency')\n",
    "plt.legend(fontsize = 12)\n",
    "plt.savefig('Massa_invariante3')\n",
    "plt.figure(figsize=[20.0,10.0], dpi = 3000)\n",
    "plt.show()"
   ]
  },
  {
   "cell_type": "code",
   "execution_count": 10,
   "metadata": {},
   "outputs": [
    {
     "data": {
      "image/png": "[encoded data removed]",
      "text/plain": [
       "<Figure size 432x288 with 1 Axes>"
      ]
     },
     "metadata": {
      "needs_background": "light"
     },
     "output_type": "display_data"
    },
    {
     "data": {
      "text/plain": [
       "<Figure size 60000x30000 with 0 Axes>"
      ]
     },
     "metadata": {},
     "output_type": "display_data"
    }
   ],
   "source": [
    "#Histogram with the difference in the simulations p p > a a and p p > a a /h\n",
    "\n",
    "#Left limits of the bins:\n",
    "\n",
    "a =[]\n",
    "for i in range(40):\n",
    "    a.append(100+i*1.5)\n",
    "    \n",
    "diff=plt.bar( a,\n",
    "             height=(histogram[0]-histogram1[0]), edgecolor='black',\n",
    "             linewidth=1.2, color='indigo')\n",
    "plt.title(r'$m_{\\gamma\\gamma} - m_{\\gamma\\gamma-H}$')\n",
    "plt.xlabel('Mass (Gev)')\n",
    "plt.ylabel('Frequency')\n",
    "plt.savefig('IM_difference1')\n",
    "plt.figure(figsize=[20.0,10.0], dpi = 3000)\n",
    "plt.show()"
   ]
  },
  {
   "cell_type": "code",
   "execution_count": 12,
   "metadata": {},
   "outputs": [
    {
     "data": {
      "image/png": "[encoded data removed]",
      "text/plain": [
       "<Figure size 432x288 with 1 Axes>"
      ]
     },
     "metadata": {
      "needs_background": "light"
     },
     "output_type": "display_data"
    },
    {
     "data": {
      "text/plain": [
       "<Figure size 60000x30000 with 0 Axes>"
      ]
     },
     "metadata": {},
     "output_type": "display_data"
    }
   ],
   "source": [
    "#Histogram with the simulation demmanding higg with the difference the difference in the simulations p p > a a and p p > a a /h \n",
    "histogram2 = plt.hist(m_h_aa, bins = 40, color = 'red', range = (100,160), label = r'$m_{\\gamma\\gamma}$ for p p > h > a a')\n",
    "\n",
    "#Left limits of the bins:\n",
    "\n",
    "a =[]\n",
    "for i in range(40):\n",
    "    a.append(100+i*1.5)\n",
    "    \n",
    "diff=plt.bar( a,\n",
    "             height=(histogram[0]-histogram1[0]), edgecolor='black',\n",
    "             linewidth=1.2, color='limegreen', label = r'$m_{\\gamma\\gamma} - m_{\\gamma\\gamma-H}$')\n",
    "plt.title(r'$m_{\\gamma\\gamma} - m_{\\gamma\\gamma-H}$')\n",
    "plt.xlabel('Mass (Gev)')\n",
    "plt.ylabel('Frequency')\n",
    "plt.legend(fontsize = 11)\n",
    "plt.savefig('IM_difference_withH1')\n",
    "plt.figure(figsize=[20.0,10.0], dpi = 3000)\n",
    "plt.show()"
   ]
  },
  {
   "cell_type": "code",
   "execution_count": null,
   "metadata": {},
   "outputs": [],
   "source": []
  }
 ],
 "metadata": {
  "kernelspec": {
   "display_name": "Python 3",
   "language": "python",
   "name": "python3"
  },
  "language_info": {
   "codemirror_mode": {
    "name": "ipython",
    "version": 3
   },
   "file_extension": ".py",
   "mimetype": "text/x-python",
   "name": "python",
   "nbconvert_exporter": "python",
   "pygments_lexer": "ipython3",
   "version": "3.6.9"
  }
 },
 "nbformat": 4,
 "nbformat_minor": 2
}
