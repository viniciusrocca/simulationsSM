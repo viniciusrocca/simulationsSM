{
 "cells": [
  {
   "cell_type": "code",
   "execution_count": 1,
   "metadata": {},
   "outputs": [],
   "source": [
    "import pylhe\n",
    "import numpy as np\n",
    "import matplotlib.pyplot as plt"
   ]
  },
  {
   "cell_type": "code",
   "execution_count": 2,
   "metadata": {},
   "outputs": [],
   "source": [
    "#This function calculates the invariant mass of e+e-\n",
    "def massa_invariante(p1,p2, num_eventos):\n",
    "    \n",
    "    massa_invariante = []\n",
    "    \n",
    "    for i in range(num_eventos):\n",
    "        mI = 0\n",
    "        for j in range(4):\n",
    "            if j == 0:\n",
    "                tensor = 1\n",
    "            else:\n",
    "                tensor = -1\n",
    "            mI = mI + tensor*((p1[i][j]+p2[i][j])**2)\n",
    "        massa_invariante.append(np.sqrt(mI))\n",
    "        \n",
    "\n",
    "    \n",
    "    return massa_invariante"
   ]
  },
  {
   "cell_type": "code",
   "execution_count": 3,
   "metadata": {
    "scrolled": true
   },
   "outputs": [],
   "source": [
    "def leitor_quadrimomento(file_name):\n",
    "    p1 = []\n",
    "    p2 = []\n",
    "\n",
    "    #This file was generated using the cards.\n",
    "    num_eventos = pylhe.readNumEvents(file_name)\n",
    "\n",
    "\n",
    "    for e in pylhe.readLHE(file_name):\n",
    "        quadrimomento1 = []\n",
    "        quadrimomento2 = []\n",
    "        for mu in ['e','px','py','pz']:\n",
    "            quadrimomento1.append(getattr(e.particles[-1],mu))\n",
    "            quadrimomento2.append(getattr(e.particles[-2],mu))\n",
    "        p1.append(quadrimomento1)\n",
    "        p2.append(quadrimomento2)\n",
    "\n",
    "    return p1,p2,num_eventos\n"
   ]
  },
  {
   "cell_type": "code",
   "execution_count": 36,
   "metadata": {},
   "outputs": [],
   "source": [
    "p1,p2,num_eventos = leitor_quadrimomento('unweighted_events_ppaa.lhe')\n",
    "p1h,p2h,num_eventosh = leitor_quadrimomento('unweighted_events_pphaa.lhe')\n",
    "\n",
    "\n"
   ]
  },
  {
   "cell_type": "code",
   "execution_count": 37,
   "metadata": {},
   "outputs": [],
   "source": [
    "weights = []\n",
    "weights = 300000*[0.002448276]"
   ]
  },
  {
   "cell_type": "code",
   "execution_count": 38,
   "metadata": {
    "scrolled": false
   },
   "outputs": [
    {
     "data": {
      "image/png": "[encoded data removed]",
      "text/plain": [
       "<matplotlib.figure.Figure at 0x7f9f6be15400>"
      ]
     },
     "metadata": {
      "needs_background": "light"
     },
     "output_type": "display_data"
    },
    {
     "data": {
      "text/plain": [
       "<matplotlib.figure.Figure at 0x7f9f65d8fa58>"
      ]
     },
     "metadata": {},
     "output_type": "display_data"
    }
   ],
   "source": [
    "#Plotando o histograma\n",
    "\n",
    "histogram = plt.hist(massa_invariante(p1,p2,num_eventos), bins = 70, color = 'purple', range = (80,150), histtype = 'step')\n",
    "\n",
    "histogram1 = plt.hist(massa_invariante(p1h,p2h,num_eventosh), bins = 70, color = 'black', range = (80,150), weights = weights)\n",
    "\n",
    "plt.title('Invariant mass a a')\n",
    "plt.xlabel('Mass (Gev)')\n",
    "plt.ylabel('Frequency')\n",
    "plt.savefig('Massa_invariante')\n",
    "plt.figure(figsize=[20.0,10.0], dpi = 3000)\n",
    "plt.show()"
   ]
  },
  {
   "cell_type": "code",
   "execution_count": null,
   "metadata": {},
   "outputs": [],
   "source": []
  },
  {
   "cell_type": "code",
   "execution_count": null,
   "metadata": {},
   "outputs": [],
   "source": []
  }
 ],
 "metadata": {
  "kernelspec": {
   "display_name": "Python 3",
   "language": "python",
   "name": "python3"
  },
  "language_info": {
   "codemirror_mode": {
    "name": "ipython",
    "version": 3
   },
   "file_extension": ".py",
   "mimetype": "text/x-python",
   "name": "python",
   "nbconvert_exporter": "python",
   "pygments_lexer": "ipython3",
   "version": "3.8.2"
  }
 },
 "nbformat": 4,
 "nbformat_minor": 2
}
