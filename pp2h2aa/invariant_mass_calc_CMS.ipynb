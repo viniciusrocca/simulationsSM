{
 "cells": [
  {
   "cell_type": "code",
   "execution_count": 1,
   "metadata": {},
   "outputs": [],
   "source": [
    "import pylhe\n",
    "import numpy as np\n",
    "import matplotlib.pyplot as plt"
   ]
  },
  {
   "cell_type": "code",
   "execution_count": 2,
   "metadata": {},
   "outputs": [],
   "source": [
    "#This function calculates the invariant mass of aa.\n",
    "def massa_invariante(p1,p2, num_eventos):\n",
    "    \n",
    "    massa_invariante = []\n",
    "    \n",
    "    for i in range(num_eventos):\n",
    "        mI = 0\n",
    "        for j in range(4):\n",
    "            if j == 0:\n",
    "                tensor = 1\n",
    "            else:\n",
    "                tensor = -1\n",
    "            mI = mI + tensor*((p1[i][j]+p2[i][j])**2)\n",
    "        massa_invariante.append(np.sqrt(mI))\n",
    "        \n",
    "\n",
    "    \n",
    "    return massa_invariante"
   ]
  },
  {
   "cell_type": "code",
   "execution_count": 3,
   "metadata": {
    "scrolled": true
   },
   "outputs": [],
   "source": [
    "def leitor_quadrimomento(file_name):\n",
    "    p1 = []\n",
    "    p2 = []\n",
    "\n",
    "    #This file was generated using the cards.\n",
    "    num_eventos = pylhe.readNumEvents(file_name)\n",
    "\n",
    "\n",
    "    for e in pylhe.readLHE(file_name):\n",
    "        quadrimomento1 = []\n",
    "        quadrimomento2 = []\n",
    "        for mu in ['e','px','py','pz']:\n",
    "            quadrimomento1.append(getattr(e.particles[-1],mu))\n",
    "            quadrimomento2.append(getattr(e.particles[-2],mu))\n",
    "        p1.append(quadrimomento1)\n",
    "        p2.append(quadrimomento2)\n",
    "\n",
    "    return p1,p2,num_eventos\n"
   ]
  },
  {
   "cell_type": "code",
   "execution_count": 4,
   "metadata": {},
   "outputs": [],
   "source": [
    "#invariant mass for p p > a a (sqrt(s) = 7 TeV), cross_section = 2.739 pb\n",
    "p1,p2,num_eventos = leitor_quadrimomento('pp2aa7TeV.lhe')\n",
    "m_aa_1 = massa_invariante(p1,p2,num_eventos)\n",
    "\n",
    "#Invariant mass for p p > h > a a (sqrt(s) = 7 TeV), cross section = 0.008508 pb\n",
    "p1h,p2h,num_eventosh = leitor_quadrimomento('pp2h2aa7TeV.lhe')\n",
    "m_h_aa_1 = massa_invariante(p1h,p2h,num_eventosh)\n",
    "\n",
    "#Invariant mass for p p > a a (sqrt(s) = 8 TeV), cross section =  3.031 pb\n",
    "p1_8,p2_8,num_eventos_8 = leitor_quadrimomento('pp2aa8TeV.lhe')\n",
    "m_aa_2 = massa_invariante(p1_8,p2_8,num_eventos_8)\n",
    "\n",
    "#Invariant mass for p p > h > a a (sqrt(s) = 8TeV), cross section = 0.01097 pb\n",
    "p1h_8,p2h_8,num_eventosh_8 = leitor_quadrimomento('pp2h2aa8TeV.lhe')\n",
    "m_h_aa_2 = massa_invariante(p1h_8,p2h_8,num_eventosh_8)\n",
    "\n",
    "#The luminosity in the CMS experiment was 5.1 fb**(-1) (7 TeV) and 5.3 fb**(-1) (8 TeV)\n",
    "\n",
    "#Selection the n = cross_section*luminosity\n",
    "m_aa = []\n",
    "m_h_aa = []\n",
    "#for m_aa_1\n",
    "for i in range(13969):\n",
    "    m_aa.append(m_aa_1[i])\n",
    "\n",
    "#for m_aa_2\n",
    "for i in range(16064):\n",
    "    m_aa.append(m_aa_2[i])\n",
    "    \n",
    "#for m_h_aa_1:\n",
    "for i in range(43):\n",
    "    m_h_aa.append(m_h_aa_1[i])\n",
    "    \n",
    "for i in range(58):\n",
    "    m_h_aa.append(m_h_aa_2[i])\n",
    "    "
   ]
  },
  {
   "cell_type": "code",
   "execution_count": 11,
   "metadata": {
    "scrolled": false
   },
   "outputs": [
    {
     "data": {
      "image/png": "[encoded data removed]",
      "text/plain": [
       "<matplotlib.figure.Figure at 0x7f656e8e8c50>"
      ]
     },
     "metadata": {
      "needs_background": "light"
     },
     "output_type": "display_data"
    },
    {
     "data": {
      "text/plain": [
       "<matplotlib.figure.Figure at 0x7f6571576748>"
      ]
     },
     "metadata": {},
     "output_type": "display_data"
    }
   ],
   "source": [
    "#Plotando o histograma\n",
    "\n",
    "histogram = plt.hist(m_aa, bins = 140, color = 'purple', range = (100,160), histtype = 'step')\n",
    "\n",
    "histogram1 = plt.hist(m_h_aa, bins = 140, color = 'black', range = (100,160))\n",
    "\n",
    "plt.title('Invariant mass aa')\n",
    "plt.xlabel('Mass (Gev)')\n",
    "plt.ylabel('Frequency')\n",
    "plt.savefig('Massa_invariante')\n",
    "plt.figure(figsize=[20.0,10.0], dpi = 3000)\n",
    "plt.show()"
   ]
  },
  {
   "cell_type": "code",
   "execution_count": null,
   "metadata": {},
   "outputs": [],
   "source": []
  },
  {
   "cell_type": "code",
   "execution_count": null,
   "metadata": {},
   "outputs": [],
   "source": []
  }
 ],
 "metadata": {
  "kernelspec": {
   "display_name": "Python 3",
   "language": "python",
   "name": "python3"
  },
  "language_info": {
   "codemirror_mode": {
    "name": "ipython",
    "version": 3
   },
   "file_extension": ".py",
   "mimetype": "text/x-python",
   "name": "python",
   "nbconvert_exporter": "python",
   "pygments_lexer": "ipython3",
   "version": "3.8.2"
  }
 },
 "nbformat": 4,
 "nbformat_minor": 2
}
