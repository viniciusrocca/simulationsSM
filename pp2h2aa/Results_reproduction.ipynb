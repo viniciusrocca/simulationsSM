{
 "cells": [
  {
   "cell_type": "code",
   "execution_count": 42,
   "metadata": {},
   "outputs": [],
   "source": [
    "import pylhe\n",
    "import numpy as np\n",
    "import matplotlib.pyplot as plt"
   ]
  },
  {
   "cell_type": "code",
   "execution_count": 43,
   "metadata": {},
   "outputs": [],
   "source": [
    "#This function calculates the invariant mass of aa.\n",
    "def massa_invariante(p1,p2, num_eventos):\n",
    "    \n",
    "    massa_invariante = []\n",
    "    \n",
    "    for i in range(num_eventos):\n",
    "        mI = 0\n",
    "        for j in range(4):\n",
    "            if j == 0:\n",
    "                tensor = 1\n",
    "            else:\n",
    "                tensor = -1\n",
    "            mI = mI + tensor*((p1[i][j]+p2[i][j])**2)\n",
    "        massa_invariante.append(np.sqrt(mI))\n",
    "        \n",
    "\n",
    "    \n",
    "    return massa_invariante"
   ]
  },
  {
   "cell_type": "code",
   "execution_count": 44,
   "metadata": {
    "scrolled": true
   },
   "outputs": [],
   "source": [
    "#This function reads the 4-momentum in the .lhe file\n",
    "def leitor_quadrimomento(file_name):\n",
    "    p1 = []\n",
    "    p2 = []\n",
    "\n",
    "    #This file was generated using the cards.\n",
    "    num_eventos = pylhe.readNumEvents(file_name)\n",
    "\n",
    "\n",
    "    for e in pylhe.readLHE(file_name):\n",
    "        quadrimomento1 = []\n",
    "        quadrimomento2 = []\n",
    "        for mu in ['e','px','py','pz']:\n",
    "            quadrimomento1.append(getattr(e.particles[-1],mu))\n",
    "            quadrimomento2.append(getattr(e.particles[-2],mu))\n",
    "        p1.append(quadrimomento1)\n",
    "        p2.append(quadrimomento2)\n",
    "\n",
    "    return p1,p2,num_eventos\n"
   ]
  },
  {
   "cell_type": "code",
   "execution_count": 47,
   "metadata": {},
   "outputs": [],
   "source": [
    "#invariant mass for p p > a a (sqrt(s) = 7 TeV), cross_section = 2.258 pb\n",
    "p1,p2,num_eventos = leitor_quadrimomento('pp2aa_7TeV.lhe')\n",
    "m_aa_1 = massa_invariante(p1,p2,num_eventos)\n",
    "\n",
    "#invariant mass for p p > a a without higgs (sqrt(s) = 7 TeV), cross_section = 2.251 pb\n",
    "p1,p2,num_eventos = leitor_quadrimomento('pp2aa_nH_7TeV.lhe')\n",
    "m_aa_nH_1 = massa_invariante(p1,p2,num_eventos)\n",
    "\n",
    "#Invariant mass for p p > h > a a (sqrt(s) = 7 TeV), cross section = 0.008509 pb\n",
    "p1h,p2h,num_eventosh = leitor_quadrimomento('pp2h2aa_7TeV.lhe')\n",
    "m_h_aa_1 = massa_invariante(p1h,p2h,num_eventosh)\n",
    "\n",
    "#Invariant mass for p p > a a (sqrt(s) = 8 TeV), cross section =  2.503 pb\n",
    "p1_8,p2_8,num_eventos_8 = leitor_quadrimomento('pp2aa_8TeV.lhe')\n",
    "m_aa_2 = massa_invariante(p1_8,p2_8,num_eventos_8)\n",
    "\n",
    "#invariant mass for p p > a a without higgs (sqrt(s) = 8 TeV), cross_section = 2.495 pb\n",
    "p1,p2,num_eventos = leitor_quadrimomento('pp2aa_nH_8TeV.lhe')\n",
    "m_aa_nH_2 = massa_invariante(p1,p2,num_eventos)\n",
    "\n",
    "#Invariant mass for p p > h > a a (sqrt(s) = 8TeV), cross section = 0.01097 pb\n",
    "p1h_8,p2h_8,num_eventosh_8 = leitor_quadrimomento('pp2h2aa_8TeV.lhe')\n",
    "m_h_aa_2 = massa_invariante(p1h_8,p2h_8,num_eventosh_8)\n",
    "\n",
    "\n",
    "\n",
    "#putting the data together\n",
    "m_aa = m_aa_1\n",
    "m_aa_nH = m_aa_nH_1\n",
    "m_h_aa = m_h_aa_1\n",
    "\n",
    "for i in range(200000):\n",
    "    m_aa.append(m_aa_2[i])\n",
    "    \n",
    "for i in range(200000):\n",
    "    m_aa_nH.append(m_aa_nH_2[i])\n",
    "\n",
    "for i in range(200000):\n",
    "    m_h_aa.append(m_h_aa_2[i])\n",
    "    \n",
    "#Setting the weights:\n",
    "\n",
    "weight_aa = (200000)*[2258/200000]\n",
    "weight_aa = weight_aa + (200000)*[2503/200000]\n",
    "\n",
    "weight_aa_nH = (200000)*[2251/200000]\n",
    "weight_aa_nH = weight_aa_nH + (200000)*[2495/200000]\n",
    "    \n",
    "weight_h_aa = (200000)*[8.509/200000]\n",
    "weight_h_aa = weight_h_aa + (200000)*[10.97/200000]\n",
    "\n",
    "\n",
    "\n",
    "    "
   ]
  },
  {
   "cell_type": "code",
   "execution_count": 76,
   "metadata": {
    "scrolled": false
   },
   "outputs": [
    {
     "data": {
      "image/png": "[encoded data removed]",
      "text/plain": [
       "<matplotlib.figure.Figure at 0x7f63181714e0>"
      ]
     },
     "metadata": {
      "needs_background": "light"
     },
     "output_type": "display_data"
    },
    {
     "data": {
      "text/plain": [
       "<matplotlib.figure.Figure at 0x7f6322749b00>"
      ]
     },
     "metadata": {},
     "output_type": "display_data"
    }
   ],
   "source": [
    "#Ploting the invariant mass \n",
    "\n",
    "histogram = plt.hist(m_aa, bins = 40, color = 'purple', range = (100,160),weights = weight_aa, histtype = 'step',label = r'$m_{\\gamma\\gamma}$ for p p > a a')\n",
    "\n",
    "\n",
    "histogram1 = plt.hist(m_h_aa, bins = 40, color = 'black', range = (100,160), weights = weight_h_aa, label = r'$m_{\\gamma\\gamma}$ for p p > h > a a')\n",
    "\n",
    "\n",
    "plt.title(r'Invariant mass ($m_{\\gamma\\gamma})$')\n",
    "plt.xlabel('Mass (Gev)')\n",
    "plt.ylabel('Frequency')\n",
    "plt.legend()\n",
    "plt.savefig('Massa_invariante1')\n",
    "plt.figure(figsize=[20.0,10.0], dpi = 3000)\n",
    "plt.show()"
   ]
  },
  {
   "cell_type": "code",
   "execution_count": 77,
   "metadata": {},
   "outputs": [
    {
     "data": {
      "image/png": "[encoded data removed]",
      "text/plain": [
       "<matplotlib.figure.Figure at 0x7f6316b0ffd0>"
      ]
     },
     "metadata": {
      "needs_background": "light"
     },
     "output_type": "display_data"
    },
    {
     "data": {
      "text/plain": [
       "<matplotlib.figure.Figure at 0x7f6311b76e10>"
      ]
     },
     "metadata": {},
     "output_type": "display_data"
    }
   ],
   "source": [
    "#Plotando o histograma\n",
    "\n",
    "histogram = plt.hist(m_aa, bins = 40, color = 'red', range = (100,160),weights = weight_aa, histtype = 'step', label = r'$m_{\\gamma\\gamma}$ for p p > a a')\n",
    "\n",
    "histogram1 = plt.hist(m_aa_nH, bins = 40, color = 'black', range = (100,160), weights = weight_aa_nH, histtype = 'step', label = r'$m_{\\gamma\\gamma}$ for p p > a a /h')\n",
    "\n",
    "plt.title(r'Invariant mass ($m_{\\gamma\\gamma})$')\n",
    "plt.xlabel('Mass (Gev)')\n",
    "plt.ylabel('Frequency')\n",
    "plt.legend()\n",
    "plt.savefig('Massa_invariante')\n",
    "plt.figure(figsize=[20.0,10.0], dpi = 3000)\n",
    "plt.show()"
   ]
  },
  {
   "cell_type": "code",
   "execution_count": 61,
   "metadata": {},
   "outputs": [
    {
     "data": {
      "image/png": "[encoded data removed]",
      "text/plain": [
       "<matplotlib.figure.Figure at 0x7f63254e1940>"
      ]
     },
     "metadata": {
      "needs_background": "light"
     },
     "output_type": "display_data"
    },
    {
     "data": {
      "text/plain": [
       "<matplotlib.figure.Figure at 0x7f633edff518>"
      ]
     },
     "metadata": {},
     "output_type": "display_data"
    }
   ],
   "source": [
    "#Histogram with the difference in the simulations p p > a a and p p > a a /h\n",
    "\n",
    "#Left limits of the bins:\n",
    "\n",
    "a =[]\n",
    "for i in range(40):\n",
    "    a.append(100+i*1.5)\n",
    "    \n",
    "diff=plt.bar( a,\n",
    "             height=(histogram[0]-histogram1[0]), edgecolor='black',\n",
    "             linewidth=1.2, color='green')\n",
    "plt.title(r'$m_{\\gamma\\gamma} - m_{\\gamma\\gamma-H}$')\n",
    "plt.xlabel('Mass (Gev)')\n",
    "plt.ylabel('Frequency')\n",
    "plt.savefig('IM_difference')\n",
    "plt.figure(figsize=[20.0,10.0], dpi = 3000)\n",
    "plt.show()"
   ]
  },
  {
   "cell_type": "code",
   "execution_count": 75,
   "metadata": {},
   "outputs": [
    {
     "data": {
      "image/png": "[encoded data removed]",
      "text/plain": [
       "<matplotlib.figure.Figure at 0x7f631ad90400>"
      ]
     },
     "metadata": {
      "needs_background": "light"
     },
     "output_type": "display_data"
    },
    {
     "data": {
      "text/plain": [
       "<matplotlib.figure.Figure at 0x7f6319dfb780>"
      ]
     },
     "metadata": {},
     "output_type": "display_data"
    }
   ],
   "source": [
    "#Histogram with the simulation demmanding higg with the difference the difference in the simulations p p > a a and p p > a a /h \n",
    "histogram2 = plt.hist(m_h_aa, bins = 40, color = 'red', range = (100,160),weights = weight_h_aa, histtype = 'step', label = r'$m_{\\gamma\\gamma}$ for p p > h > a a')\n",
    "\n",
    "#Left limits of the bins:\n",
    "\n",
    "a =[]\n",
    "for i in range(40):\n",
    "    a.append(100+i*1.5)\n",
    "    \n",
    "diff=plt.bar( a,\n",
    "             height=(histogram[0]-histogram1[0]), edgecolor='black',\n",
    "             linewidth=1.2, color='green', label = r'$m_{\\gamma\\gamma} - m_{\\gamma\\gamma-H}$')\n",
    "plt.title(r'$m_{\\gamma\\gamma} - m_{\\gamma\\gamma-H}$')\n",
    "plt.xlabel('Mass (Gev)')\n",
    "plt.ylabel('Frequency')\n",
    "plt.legend()\n",
    "plt.savefig('IM_difference_withH')\n",
    "plt.figure(figsize=[20.0,10.0], dpi = 3000)\n",
    "plt.show()"
   ]
  },
  {
   "cell_type": "code",
   "execution_count": null,
   "metadata": {},
   "outputs": [],
   "source": []
  }
 ],
 "metadata": {
  "kernelspec": {
   "display_name": "Python 3",
   "language": "python",
   "name": "python3"
  },
  "language_info": {
   "codemirror_mode": {
    "name": "ipython",
    "version": 3
   },
   "file_extension": ".py",
   "mimetype": "text/x-python",
   "name": "python",
   "nbconvert_exporter": "python",
   "pygments_lexer": "ipython3",
   "version": "3.6.9"
  }
 },
 "nbformat": 4,
 "nbformat_minor": 2
}
